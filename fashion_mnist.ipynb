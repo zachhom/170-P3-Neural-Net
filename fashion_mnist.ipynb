{
  "nbformat": 4,
  "nbformat_minor": 0,
  "metadata": {
    "colab": {
      "provenance": [],
      "collapsed_sections": [
        "wJImnLRvS10E"
      ],
      "include_colab_link": true
    },
    "kernelspec": {
      "name": "python3",
      "display_name": "Python 3"
    },
    "language_info": {
      "name": "python"
    },
    "accelerator": "GPU",
    "gpuClass": "standard"
  },
  "cells": [
    {
      "cell_type": "markdown",
      "metadata": {
        "id": "view-in-github",
        "colab_type": "text"
      },
      "source": [
        "<a href=\"https://colab.research.google.com/github/zachhom/170-P3-Neural-Net/blob/Dave/fashion_mnist.ipynb\" target=\"_parent\"><img src=\"https://colab.research.google.com/assets/colab-badge.svg\" alt=\"Open In Colab\"/></a>"
      ]
    },
    {
      "cell_type": "markdown",
      "source": [
        "# Writeup\n",
        "\n",
        "For the writeup, please include the following information:\n",
        "\n",
        "\n",
        "*   Describe the architecture of your neural network\n",
        "*   Discuss how you tuned your network and why you think it's performance is reasonable for this task\n",
        "*   Discuss whether or not you feel that this classifier is appropriate for the given task (check PA3 description)\n",
        "\n"
      ],
      "metadata": {
        "id": "qxOhrr4P1jWt"
      }
    },
    {
      "cell_type": "markdown",
      "source": [
        "# PyTorch"
      ],
      "metadata": {
        "id": "wJImnLRvS10E"
      }
    },
    {
      "cell_type": "markdown",
      "source": [
        "## 0 Imports"
      ],
      "metadata": {
        "id": "9Oj-THYrHY-F"
      }
    },
    {
      "cell_type": "code",
      "execution_count": null,
      "metadata": {
        "id": "gJF_htAsHP18"
      },
      "outputs": [],
      "source": [
        "import torch\n",
        "import torchvision\n",
        "import torchvision.transforms as transforms\n",
        "import torch.nn as nn\n",
        "import torch.nn.functional as F\n",
        "import torch.optim as optim\n",
        "import matplotlib.pyplot as plt\n",
        "\n",
        "device = torch.device(\"cuda:0\" if torch.cuda.is_available() else \"cpu\")"
      ]
    },
    {
      "cell_type": "markdown",
      "source": [
        "## 1. Set Hyperparameters"
      ],
      "metadata": {
        "id": "o7QPmU2THeE5"
      }
    },
    {
      "cell_type": "code",
      "source": [
        "# You can modify these values\n",
        "\n",
        "n_epochs = 3\n",
        "batch_size_train = 64\n",
        "batch_size_test = 1000\n",
        "learning_rate = 0.01\n",
        "momentum = 0.5\n",
        "log_interval = 100"
      ],
      "metadata": {
        "id": "Q2jvrRp6Hdhe"
      },
      "execution_count": null,
      "outputs": []
    },
    {
      "cell_type": "markdown",
      "source": [
        "## 2. Load Data"
      ],
      "metadata": {
        "id": "5BF4XieJH6r8"
      }
    },
    {
      "cell_type": "code",
      "source": [
        "train_set = torchvision.datasets.FashionMNIST(\n",
        "  root = './data/FashionMNIST',\n",
        "  train = True,\n",
        "  download = True,\n",
        "  transform = transforms.Compose([\n",
        "      transforms.ToTensor()                                 \n",
        "  ]))\n",
        "\n",
        "train_loader = torch.utils.data.DataLoader(train_set,\n",
        "                                     batch_size = batch_size_train,\n",
        "                                     shuffle=True)\n",
        "\n",
        "train_set = torchvision.datasets.FashionMNIST(\n",
        "  root = './data/FashionMNIST',\n",
        "  train = False,\n",
        "  download = True,\n",
        "  transform = transforms.Compose([\n",
        "      transforms.ToTensor()                                 \n",
        "  ]))\n",
        "\n",
        "test_loader = torch.utils.data.DataLoader(train_set,\n",
        "                                     batch_size = batch_size_train,\n",
        "                                     shuffle=True)"
      ],
      "metadata": {
        "id": "9ksSnoOcH_2m"
      },
      "execution_count": null,
      "outputs": []
    },
    {
      "cell_type": "code",
      "source": [
        "examples = enumerate(test_loader)\n",
        "batch_idx, (example_data, example_targets) = next(examples)\n",
        "\n",
        "fig = plt.figure()\n",
        "for i in range(6):\n",
        "  plt.subplot(2,3,i+1)\n",
        "  plt.tight_layout()\n",
        "  plt.imshow(example_data[i][0], cmap='gray', interpolation='none')\n",
        "  plt.title(\"Ground Truth: {}\".format(example_targets[i]))\n",
        "  plt.xticks([])\n",
        "  plt.yticks([])"
      ],
      "metadata": {
        "colab": {
          "base_uri": "https://localhost:8080/",
          "height": 284
        },
        "id": "leynP5FNILE6",
        "outputId": "7f5bbe0f-c1f9-45b0-db8d-272f231e0219"
      },
      "execution_count": null,
      "outputs": [
        {
          "output_type": "display_data",
          "data": {
            "text/plain": [
              "<Figure size 432x288 with 6 Axes>"
            ],
            "image/png": "[encoded data removed]"
          },
          "metadata": {}
        }
      ]
    },
    {
      "cell_type": "code",
      "source": [
        "INPUT_CHANNELS = example_data.shape[1]\n",
        "OUTPUT_CLASSES = 10\n",
        "example_data.shape"
      ],
      "metadata": {
        "colab": {
          "base_uri": "https://localhost:8080/"
        },
        "id": "4SVbsV3JJOyN",
        "outputId": "f7a92d66-3111-4a12-8787-88ea61ca5c05"
      },
      "execution_count": null,
      "outputs": [
        {
          "output_type": "execute_result",
          "data": {
            "text/plain": [
              "torch.Size([64, 1, 28, 28])"
            ]
          },
          "metadata": {},
          "execution_count": 13
        }
      ]
    },
    {
      "cell_type": "markdown",
      "source": [
        "## 3. Define Model"
      ],
      "metadata": {
        "id": "jd448qcTI08A"
      }
    },
    {
      "cell_type": "code",
      "source": [
        "class Net(nn.Module):\n",
        "    def __init__(self):\n",
        "        super(Net, self).__init__()\n",
        "        self.fc1 = nn.Linear(INPUT_SHAPE, 256)\n",
        "        self.fc2 = nn.Linear(256, 128)\n",
        "        self.fc3 = nn.Linear(128, 32)\n",
        "        self.fc4 = nn.Linear(32, OUTPUT_CLASSES)\n",
        "\n",
        "    def forward(self, x):\n",
        "        x = self.fc1(x)\n",
        "        x = self.fc2(x)\n",
        "        x = self.fc3(x)\n",
        "        x = self.fc4(x)\n",
        "        output = F.log_softmax(x, dim=1)\n",
        "        return output"
      ],
      "metadata": {
        "id": "FPJ3fN3IIubV"
      },
      "execution_count": null,
      "outputs": []
    },
    {
      "cell_type": "code",
      "source": [
        "net = Net().to(device)\n",
        "net"
      ],
      "metadata": {
        "id": "cMoEjiakOJ0p"
      },
      "execution_count": null,
      "outputs": []
    },
    {
      "cell_type": "markdown",
      "source": [
        "## 4. Train Model"
      ],
      "metadata": {
        "id": "HtfpbeNoKA-z"
      }
    },
    {
      "cell_type": "code",
      "source": [
        "train_losses = []\n",
        "train_counter = []\n",
        "test_losses = []\n",
        "test_counter = [i*len(train_loader.dataset) for i in range(n_epochs + 1)]\n",
        "\n",
        "optimizer = optim.SGD(net.parameters(), lr=learning_rate, momentum=momentum)\n",
        "criterion = nn.MSELoss()"
      ],
      "metadata": {
        "id": "U3PqYa_JKW5o"
      },
      "execution_count": null,
      "outputs": []
    },
    {
      "cell_type": "code",
      "source": [
        "def train(model, train_loader, optimizer, epoch):\n",
        "    model.train()\n",
        "    for batch_idx, (data, target) in enumerate(train_loader):\n",
        "        data = data.to(device)\n",
        "        target = target.to(device)\n",
        "        optimizer.zero_grad()\n",
        "        output = model(data)\n",
        "        loss = F.nll_loss(output, target)\n",
        "        loss.backward()\n",
        "        optimizer.step()\n",
        "        if batch_idx % log_interval == 0:\n",
        "            print('Train Epoch: {} [{}/{} ({:.0f}%)]\\tLoss: {:.6f}'.format(\n",
        "                epoch, batch_idx * len(data), len(train_loader.dataset),\n",
        "                100. * batch_idx / len(train_loader), loss.item()))\n",
        "\n",
        "\n",
        "def test(model, test_loader):\n",
        "    model.eval()\n",
        "    test_loss = 0\n",
        "    correct = 0\n",
        "    with torch.no_grad():\n",
        "        for data, target in test_loader:\n",
        "            data = data.to(device)\n",
        "            target = target.to(device)\n",
        "            output = model(data)\n",
        "            test_loss += F.nll_loss(output, target, reduction='sum').item()  # sum up batch loss\n",
        "            pred = output.argmax(dim=1, keepdim=True)  # get the index of the max log-probability\n",
        "            correct += pred.eq(target.view_as(pred)).sum().item()\n",
        "\n",
        "    test_loss /= len(test_loader.dataset)\n",
        "\n",
        "    print('\\nTest set: Average loss: {:.4f}, Accuracy: {}/{} ({:.0f}%)\\n'.format(\n",
        "        test_loss, correct, len(test_loader.dataset),\n",
        "        100. * correct / len(test_loader.dataset)))"
      ],
      "metadata": {
        "id": "SdQxhR9LKAWg"
      },
      "execution_count": null,
      "outputs": []
    },
    {
      "cell_type": "code",
      "source": [
        "for epoch in range(1, n_epochs + 1):\n",
        "  train(net, train_loader, optimizer, epoch)\n",
        "  test(net, test_loader)"
      ],
      "metadata": {
        "id": "cO6SfXSkKbIp"
      },
      "execution_count": null,
      "outputs": []
    },
    {
      "cell_type": "markdown",
      "source": [
        "# Tensorflow"
      ],
      "metadata": {
        "id": "4XcY-TlhGxru"
      }
    },
    {
      "cell_type": "markdown",
      "source": [
        "## 0. Imports"
      ],
      "metadata": {
        "id": "KyU1ThEPG0Mx"
      }
    },
    {
      "cell_type": "code",
      "source": [
        "import tensorflow as tf\n",
        "import tensorflow_datasets as tfds\n",
        "from keras.models import Sequential\n",
        "from keras.layers import Conv2D\n",
        "from keras.layers import MaxPooling2D\n",
        "from keras.layers import Dense\n",
        "from keras.layers import Flatten\n",
        "from keras.layers import Dropout"
      ],
      "metadata": {
        "id": "0F1QY_IOG2e1"
      },
      "execution_count": 3,
      "outputs": []
    },
    {
      "cell_type": "markdown",
      "source": [
        "## 1. Set Hyperparameters"
      ],
      "metadata": {
        "id": "qJe1xk4QHEvp"
      }
    },
    {
      "cell_type": "code",
      "source": [
        "# Tune these\n",
        "\n",
        "n_epochs = 20\n",
        "batch_size_train = 250\n",
        "batch_size_test = 10000\n",
        "learning_rate = 0.01"
      ],
      "metadata": {
        "id": "tsXzcHqDHTku"
      },
      "execution_count": 36,
      "outputs": []
    },
    {
      "cell_type": "markdown",
      "source": [
        "## 2. Import Data"
      ],
      "metadata": {
        "id": "n13sUlF_HJ1v"
      }
    },
    {
      "cell_type": "code",
      "source": [
        "(ds_train, ds_test), ds_info = tfds.load(\n",
        "    'fashion_mnist',\n",
        "    split=['train', 'test'],\n",
        "    shuffle_files=True,\n",
        "    as_supervised=True,\n",
        "    with_info=True,\n",
        ")\n",
        "\n",
        "def normalize_img(image, label):\n",
        "  \"\"\"Normalizes images: `uint8` -> `float32`.\"\"\"\n",
        "  return tf.cast(image, tf.float32) / 255., label\n",
        "\n",
        "ds_train = ds_train.map(\n",
        "    normalize_img, num_parallel_calls=tf.data.AUTOTUNE)\n",
        "ds_train = ds_train.cache()\n",
        "ds_train = ds_train.shuffle(ds_info.splits['train'].num_examples)\n",
        "ds_train = ds_train.batch(batch_size_train)\n",
        "ds_train = ds_train.prefetch(tf.data.AUTOTUNE)\n",
        "\n",
        "ds_test = ds_test.map(\n",
        "    normalize_img, num_parallel_calls=tf.data.AUTOTUNE)\n",
        "ds_test = ds_test.batch(batch_size_test)\n",
        "ds_test = ds_test.cache()\n",
        "ds_test = ds_test.prefetch(tf.data.AUTOTUNE)"
      ],
      "metadata": {
        "id": "W4uIM9TaHWUH"
      },
      "execution_count": 37,
      "outputs": []
    },
    {
      "cell_type": "markdown",
      "source": [
        "## 3. Define Model"
      ],
      "metadata": {
        "id": "DgEqnLBsR3W6"
      }
    },
    {
      "cell_type": "code",
      "source": [
        "model = tf.keras.models.Sequential()\n",
        "\n",
        "# Convolutional Layers\n",
        "model.add(tf.keras.layers.Conv2D(30, (3,3), padding='same', activation='relu', input_shape=(28,28,1)))\n",
        "model.add(tf.keras.layers.MaxPooling2D(pool_size=(2,2)))\n",
        "model.add(tf.keras.layers.Conv2D(20, (3,3), padding='same', activation='relu'))\n",
        "model.add(tf.keras.layers.MaxPooling2D(pool_size=(2,2)))\n",
        "\n",
        "# Dense Layers\n",
        "model.add(tf.keras.layers.Flatten())\n",
        "model.add(tf.keras.layers.Dense(512, activation='relu'))\n",
        "model.add(tf.keras.layers.Dense(256, activation='relu')) #256\n",
        "model.add(tf.keras.layers.Dense(126, activation='relu'))\n",
        "model.add(tf.keras.layers.Dense(10, activation='softmax'))\n",
        "\n",
        "model.compile(\n",
        "    optimizer=tf.keras.optimizers.Adam(learning_rate),\n",
        "    loss=tf.keras.losses.SparseCategoricalCrossentropy(from_logits=True),\n",
        "    metrics=[tf.keras.metrics.SparseCategoricalAccuracy()],\n",
        ")\n",
        "\n",
        "model.summary()"
      ],
      "metadata": {
        "id": "v4wX6lQOHjeK",
        "colab": {
          "base_uri": "https://localhost:8080/"
        },
        "outputId": "73a7f5cb-2949-41bc-853d-7b0ac77e3440"
      },
      "execution_count": 40,
      "outputs": [
        {
          "output_type": "stream",
          "name": "stdout",
          "text": [
            "Model: \"sequential_10\"\n",
            "_________________________________________________________________\n",
            " Layer (type)                Output Shape              Param #   \n",
            "=================================================================\n",
            " conv2d_20 (Conv2D)          (None, 28, 28, 20)        200       \n",
            "                                                                 \n",
            " max_pooling2d_20 (MaxPoolin  (None, 14, 14, 20)       0         \n",
            " g2D)                                                            \n",
            "                                                                 \n",
            " conv2d_21 (Conv2D)          (None, 14, 14, 20)        3620      \n",
            "                                                                 \n",
            " max_pooling2d_21 (MaxPoolin  (None, 7, 7, 20)         0         \n",
            " g2D)                                                            \n",
            "                                                                 \n",
            " conv2d_22 (Conv2D)          (None, 7, 7, 10)          1810      \n",
            "                                                                 \n",
            " max_pooling2d_22 (MaxPoolin  (None, 3, 3, 10)         0         \n",
            " g2D)                                                            \n",
            "                                                                 \n",
            " flatten_10 (Flatten)        (None, 90)                0         \n",
            "                                                                 \n",
            " dense_40 (Dense)            (None, 512)               46592     \n",
            "                                                                 \n",
            " dense_41 (Dense)            (None, 256)               131328    \n",
            "                                                                 \n",
            " dense_42 (Dense)            (None, 126)               32382     \n",
            "                                                                 \n",
            " dense_43 (Dense)            (None, 10)                1270      \n",
            "                                                                 \n",
            "=================================================================\n",
            "Total params: 217,202\n",
            "Trainable params: 217,202\n",
            "Non-trainable params: 0\n",
            "_________________________________________________________________\n"
          ]
        }
      ]
    },
    {
      "cell_type": "markdown",
      "source": [
        "Things to consider:\n",
        "\n",
        "* dropout, convensation, things like that\n",
        "* overtrain\n",
        "\n",
        "\n"
      ],
      "metadata": {
        "id": "es5iz2n7jGpe"
      }
    },
    {
      "cell_type": "markdown",
      "source": [],
      "metadata": {
        "id": "LRVf9D0mjGel"
      }
    },
    {
      "cell_type": "markdown",
      "source": [
        "## 4. Train Model"
      ],
      "metadata": {
        "id": "f5VZLjUSHNl6"
      }
    },
    {
      "cell_type": "code",
      "source": [
        "model.fit(\n",
        "    ds_train,\n",
        "    epochs=n_epochs,\n",
        "    validation_data=ds_test,\n",
        ")\n"
      ],
      "metadata": {
        "id": "GQp_7VQtHwXi",
        "colab": {
          "base_uri": "https://localhost:8080/"
        },
        "outputId": "6583c111-a381-4b69-d1ee-ad5d97557abc"
      },
      "execution_count": 41,
      "outputs": [
        {
          "output_type": "stream",
          "name": "stdout",
          "text": [
            "Epoch 1/20\n",
            "240/240 [==============================] - 2s 7ms/step - loss: 0.6455 - sparse_categorical_accuracy: 0.7511 - val_loss: 0.4406 - val_sparse_categorical_accuracy: 0.8412\n",
            "Epoch 2/20\n",
            "240/240 [==============================] - 1s 6ms/step - loss: 0.3704 - sparse_categorical_accuracy: 0.8613 - val_loss: 0.4137 - val_sparse_categorical_accuracy: 0.8406\n",
            "Epoch 3/20\n",
            "240/240 [==============================] - 1s 6ms/step - loss: 0.3421 - sparse_categorical_accuracy: 0.8730 - val_loss: 0.3813 - val_sparse_categorical_accuracy: 0.8553\n",
            "Epoch 4/20\n",
            "240/240 [==============================] - 1s 6ms/step - loss: 0.3116 - sparse_categorical_accuracy: 0.8834 - val_loss: 0.3320 - val_sparse_categorical_accuracy: 0.8806\n",
            "Epoch 5/20\n",
            "240/240 [==============================] - 1s 6ms/step - loss: 0.3019 - sparse_categorical_accuracy: 0.8873 - val_loss: 0.3740 - val_sparse_categorical_accuracy: 0.8666\n",
            "Epoch 6/20\n",
            "240/240 [==============================] - 1s 6ms/step - loss: 0.2932 - sparse_categorical_accuracy: 0.8920 - val_loss: 0.3193 - val_sparse_categorical_accuracy: 0.8838\n",
            "Epoch 7/20\n",
            "240/240 [==============================] - 1s 6ms/step - loss: 0.2846 - sparse_categorical_accuracy: 0.8954 - val_loss: 0.3011 - val_sparse_categorical_accuracy: 0.8954\n",
            "Epoch 8/20\n",
            "240/240 [==============================] - 1s 6ms/step - loss: 0.2753 - sparse_categorical_accuracy: 0.8979 - val_loss: 0.3187 - val_sparse_categorical_accuracy: 0.8872\n",
            "Epoch 9/20\n",
            "240/240 [==============================] - 1s 6ms/step - loss: 0.2822 - sparse_categorical_accuracy: 0.8979 - val_loss: 0.2983 - val_sparse_categorical_accuracy: 0.8927\n",
            "Epoch 10/20\n",
            "240/240 [==============================] - 1s 6ms/step - loss: 0.2706 - sparse_categorical_accuracy: 0.9006 - val_loss: 0.3166 - val_sparse_categorical_accuracy: 0.8899\n",
            "Epoch 11/20\n",
            "240/240 [==============================] - 1s 6ms/step - loss: 0.2555 - sparse_categorical_accuracy: 0.9053 - val_loss: 0.3166 - val_sparse_categorical_accuracy: 0.8886\n",
            "Epoch 12/20\n",
            "240/240 [==============================] - 1s 6ms/step - loss: 0.2648 - sparse_categorical_accuracy: 0.9036 - val_loss: 0.3029 - val_sparse_categorical_accuracy: 0.8929\n",
            "Epoch 13/20\n",
            "240/240 [==============================] - 1s 6ms/step - loss: 0.2572 - sparse_categorical_accuracy: 0.9057 - val_loss: 0.3168 - val_sparse_categorical_accuracy: 0.8918\n",
            "Epoch 14/20\n",
            "240/240 [==============================] - 1s 6ms/step - loss: 0.2550 - sparse_categorical_accuracy: 0.9063 - val_loss: 0.3200 - val_sparse_categorical_accuracy: 0.8879\n",
            "Epoch 15/20\n",
            "240/240 [==============================] - 1s 6ms/step - loss: 0.2576 - sparse_categorical_accuracy: 0.9060 - val_loss: 0.3247 - val_sparse_categorical_accuracy: 0.8877\n",
            "Epoch 16/20\n",
            "240/240 [==============================] - 1s 6ms/step - loss: 0.2609 - sparse_categorical_accuracy: 0.9056 - val_loss: 0.3162 - val_sparse_categorical_accuracy: 0.8925\n",
            "Epoch 17/20\n",
            "240/240 [==============================] - 1s 6ms/step - loss: 0.2529 - sparse_categorical_accuracy: 0.9083 - val_loss: 0.3170 - val_sparse_categorical_accuracy: 0.8909\n",
            "Epoch 18/20\n",
            "240/240 [==============================] - 1s 6ms/step - loss: 0.2650 - sparse_categorical_accuracy: 0.9047 - val_loss: 0.3160 - val_sparse_categorical_accuracy: 0.8956\n",
            "Epoch 19/20\n",
            "240/240 [==============================] - 1s 6ms/step - loss: 0.2480 - sparse_categorical_accuracy: 0.9093 - val_loss: 0.3390 - val_sparse_categorical_accuracy: 0.8869\n",
            "Epoch 20/20\n",
            "240/240 [==============================] - 1s 6ms/step - loss: 0.2486 - sparse_categorical_accuracy: 0.9095 - val_loss: 0.3020 - val_sparse_categorical_accuracy: 0.8919\n"
          ]
        },
        {
          "output_type": "execute_result",
          "data": {
            "text/plain": [
              "<keras.callbacks.History at 0x7f61b232dbd0>"
            ]
          },
          "metadata": {},
          "execution_count": 41
        }
      ]
    }
  ]
}